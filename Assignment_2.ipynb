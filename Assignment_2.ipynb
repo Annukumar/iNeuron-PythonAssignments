{
 "cells": [
  {
   "cell_type": "markdown",
   "metadata": {},
   "source": [
    "1. What are the two values of the Boolean data type? How do you write them?\n",
    "\n",
    "True, False\n",
    "ex: a = True, a = False"
   ]
  },
  {
   "cell_type": "markdown",
   "metadata": {},
   "source": [
    "2. What are the three different types of Boolean operators?\n",
    "\n",
    "< (less than), > (greater than), == (equality check)"
   ]
  },
  {
   "cell_type": "markdown",
   "metadata": {},
   "source": [
    "3. Make a list of each Boolean operator's truth tables (i.e. every possible combination of Boolean values for the operator and what it evaluate ).\n",
    "\n",
    "p\tq   p and q  p or q   p xor q\n",
    "T\tT\t   T       T         F\n",
    "T\tF\t   F       T         T\n",
    "F\tT      F       T         T\n",
    "F\tF      F       F         F"
   ]
  },
  {
   "cell_type": "markdown",
   "metadata": {},
   "source": [
    "4. What are the values of the following expressions?\n",
    "\n",
    "(5 > 4) and (3 == 5)  - False\n",
    "not (5 > 4)           - False\n",
    "(5 > 4) or (3 == 5)   - True\n",
    "not ((5 > 4) or (3 == 5)) - False\n",
    "(True and True) and (True == False) - False\n",
    "(not False) or (not True) - True"
   ]
  },
  {
   "cell_type": "markdown",
   "metadata": {},
   "source": [
    "5. What are the six comparison operators?\n",
    "\n",
    "< less than\n",
    "> greater than\n",
    ">= greater than equal to\n",
    "=< less than equal to\n",
    "!= not equal to\n",
    "== equals to"
   ]
  },
  {
   "cell_type": "markdown",
   "metadata": {},
   "source": [
    "6. How do you tell the difference between the equal to and assignment operators?Describe a condition and when you would use one.\n",
    "\n",
    "An assignment operator assigns a value to a variable. \n",
    "For ex: a=10, assigns a value 10 to variable a\n",
    "\n",
    "An equal-to operator (==) checks and returns true if both operands have the same value. \n",
    "For ex a= 10, b=20\n",
    "check if a and b values are same, use a==b"
   ]
  },
  {
   "cell_type": "markdown",
   "metadata": {},
   "source": [
    "7. Identify the three blocks in this code:\n",
    "\n",
    "spam = 0            # Block 1\n",
    "\n",
    "if spam == 10:      # Block 2\n",
    "    print('eggs')\n",
    "\n",
    "if spam > 5:        # Block 3\n",
    "    print('bacon')\n",
    "else:\n",
    "    print('ham')\n",
    "    print('spam')\n",
    "    print('spam')"
   ]
  },
  {
   "cell_type": "markdown",
   "metadata": {},
   "source": [
    "8. Write code that prints Hello if 1 is stored in spam, prints Howdy if 2 is stored in spam, and prints Greetings! if anything else is stored in spam.\n",
    "\n",
    "spam=1\n",
    "\n",
    "if spam==1:\n",
    "    print('Hello')\n",
    "elif spam==2:\n",
    "    print('Howdy')\n",
    "else:\n",
    "    print('Greetings!')"
   ]
  },
  {
   "cell_type": "markdown",
   "metadata": {},
   "source": [
    "9. If your programme is stuck in an endless loop, what keys you’ll press?\n",
    "\n",
    "ctrl+c"
   ]
  },
  {
   "cell_type": "markdown",
   "metadata": {},
   "source": [
    "10. How can you tell the difference between break and continue?\n",
    "\n",
    "Break is used to exit a loop or iteration, when a certain condition matches. \n",
    "\n",
    "Continue is used to skip to next iteration of a loop."
   ]
  },
  {
   "cell_type": "markdown",
   "metadata": {},
   "source": [
    "11. In a for loop, what is the difference between range(10), range(0, 10), and range(0, 10, 1)?\n",
    "\n",
    "NO difference. all of them will print the same values from 0 to 9 in a for loop."
   ]
  },
  {
   "cell_type": "markdown",
   "metadata": {},
   "source": [
    "12. Write a short program that prints the numbers 1 to 10 using a for loop. Then write an equivalent program that prints the numbers 1 to 10 using a while loop.\n",
    "\n",
    "#for loop\n",
    "for i in range(1, 12):\n",
    "    print(i)\n",
    " \n",
    "#while loop\n",
    "val=1\n",
    "\n",
    "while val != 12:\n",
    "    print(val)\n",
    "    val+=1"
   ]
  },
  {
   "cell_type": "markdown",
   "metadata": {},
   "source": [
    "13. If you had a function named bacon() inside a module named spam, how would you call it after importing spam?\n",
    "\n",
    "import spam\n",
    "\n",
    "#to use:\n",
    "\n",
    "spam.bacon()"
   ]
  }
 ],
 "metadata": {
  "kernelspec": {
   "display_name": "Python 3",
   "language": "python",
   "name": "python3"
  },
  "language_info": {
   "codemirror_mode": {
    "name": "ipython",
    "version": 3
   },
   "file_extension": ".py",
   "mimetype": "text/x-python",
   "name": "python",
   "nbconvert_exporter": "python",
   "pygments_lexer": "ipython3",
   "version": "3.7.6"
  }
 },
 "nbformat": 4,
 "nbformat_minor": 4
}
