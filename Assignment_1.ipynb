{
 "cells": [
  {
   "cell_type": "markdown",
   "metadata": {},
   "source": [
    "1. In the below elements which of them are values or an expression? eg:- values can be integer or string and expressions will be mathematical operators.\n",
    "*     \t\t- expression\n",
    "'hello'\t\t- value\n",
    "-87.8\t\t- value\n",
    "- \t\t- expression\n",
    "/ \t\t- expression\n",
    "+          - expression\n",
    "6 \t\t- value"
   ]
  },
  {
   "cell_type": "markdown",
   "metadata": {},
   "source": [
    "2. What is the difference between string and variable?\n",
    "A: A string is a sequence of characters (under single/double-quotes) stored in the memory.\n",
    "A variable on the other hand, holds a reference to that memory address or a reference to any value’s address\n"
   ]
  },
  {
   "cell_type": "markdown",
   "metadata": {},
   "source": [
    "3. Describe three different data types.\n",
    "A: String : Represents all sequence of characters. Usually written inside quotes/double quotes\n",
    "Integer : Represents a whole number both -ve and +ve.\n",
    "Boolean : Represents a TRUE or FALSE relation. \n"
   ]
  },
  {
   "cell_type": "markdown",
   "metadata": {},
   "source": [
    "4. What is an expression made up of? What do all expressions do?\n",
    "A: An expression is made of operators and values.\n",
    "Expressions evaluate the results (could be string or mathematical operations) on the values and compute a new value."
   ]
  },
  {
   "cell_type": "markdown",
   "metadata": {},
   "source": [
    "5. This assignment statements, like spam = 10. What is the difference between an expression and a statement?\n",
    "A: Statements are commands that are executed as it is.\n",
    "    Expressions on the other hand evaluate the operations and return a result/value."
   ]
  },
  {
   "cell_type": "markdown",
   "metadata": {},
   "source": [
    "6. After running the following code, what does the variable bacon contain?\n",
    "bacon = 22\n",
    "bacon + 1\n",
    "A : bacon = 22"
   ]
  },
  {
   "cell_type": "markdown",
   "metadata": {},
   "source": [
    "7. What should the values of the following two terms be?\n",
    "'spam' + 'spamspam' = ‘spamspamspam’\n",
    "'spam' * 3 = ‘spamspamspam’"
   ]
  },
  {
   "cell_type": "markdown",
   "metadata": {},
   "source": [
    "8. Why is eggs a valid variable name while 100 is invalid?\n",
    "In python variable names must always start with a character (or ‘_’), hence ‘eggs’ is a valid name.\n",
    "100 is an invalid name, however ‘_100’ is a valid variable name."
   ]
  },
  {
   "cell_type": "markdown",
   "metadata": {},
   "source": [
    "9. What three functions can be used to get the integer, floating-point number, or string version of a value?\n",
    "Int(), float(), str()"
   ]
  },
  {
   "cell_type": "markdown",
   "metadata": {},
   "source": [
    "10. Why does this expression cause an error? How can you fix it?\n",
    "'I have eaten ' + 99 + ' burritos.'\n",
    "This expression tries to evaluate operation on strings and an integer.\n",
    "Integers cannot be evaluated and added to strings. All values here must be of same datatype.\n",
    "Solution : 'I have eaten ' + str(99) + ' burritos.'"
   ]
  }
 ],
 "metadata": {
  "kernelspec": {
   "display_name": "Python 3",
   "language": "python",
   "name": "python3"
  },
  "language_info": {
   "codemirror_mode": {
    "name": "ipython",
    "version": 3
   },
   "file_extension": ".py",
   "mimetype": "text/x-python",
   "name": "python",
   "nbconvert_exporter": "python",
   "pygments_lexer": "ipython3",
   "version": "3.7.6"
  }
 },
 "nbformat": 4,
 "nbformat_minor": 4
}
